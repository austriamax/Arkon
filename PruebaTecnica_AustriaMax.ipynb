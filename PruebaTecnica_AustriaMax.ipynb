{
  "nbformat": 4,
  "nbformat_minor": 0,
  "metadata": {
    "colab": {
      "provenance": [],
      "collapsed_sections": []
    },
    "kernelspec": {
      "name": "python3",
      "display_name": "Python 3"
    },
    "language_info": {
      "name": "python"
    }
  },
  "cells": [
    {
      "cell_type": "markdown",
      "source": [
        "## **Prueba técnica Data Science**\n",
        "\n",
        "#### Max Benjamín Austria Salazar"
      ],
      "metadata": {
        "id": "r4kzM2WHstSa"
      }
    },
    {
      "cell_type": "markdown",
      "source": [
        "### **0. Descarga del archivo desde Kaggle**"
      ],
      "metadata": {
        "id": "X6WW56f5yv6m"
      }
    },
    {
      "cell_type": "markdown",
      "source": [
        "Paquetes"
      ],
      "metadata": {
        "id": "bZukwUC51iKq"
      }
    },
    {
      "cell_type": "code",
      "source": [
        "from google.colab import drive\n",
        "from google.colab import files\n",
        "import pandas as pd\n",
        "import zipfile"
      ],
      "metadata": {
        "id": "vUcKoeJh1iaQ"
      },
      "execution_count": 25,
      "outputs": []
    },
    {
      "cell_type": "markdown",
      "source": [
        "Monte sus archivos de Google Drive"
      ],
      "metadata": {
        "id": "BDDZj5liy9kd"
      }
    },
    {
      "cell_type": "code",
      "source": [
        "drive.mount('/content/gdrive')"
      ],
      "metadata": {
        "colab": {
          "base_uri": "https://localhost:8080/",
          "height": 0
        },
        "id": "Pq9WaHeTxqNL",
        "outputId": "a5bbfc65-6bd7-4254-e69d-8dd736342921"
      },
      "execution_count": 26,
      "outputs": [
        {
          "output_type": "stream",
          "name": "stdout",
          "text": [
            "Drive already mounted at /content/gdrive; to attempt to forcibly remount, call drive.mount(\"/content/gdrive\", force_remount=True).\n"
          ]
        }
      ]
    },
    {
      "cell_type": "markdown",
      "source": [
        "Carge su token de Kaggle."
      ],
      "metadata": {
        "id": "eK6d4NV3y_kD"
      }
    },
    {
      "cell_type": "code",
      "source": [
        "files.upload()"
      ],
      "metadata": {
        "id": "IalIolx5vGqZ",
        "colab": {
          "base_uri": "https://localhost:8080/",
          "height": 92
        },
        "outputId": "5afa7c27-454f-43ca-e806-4ee35281c437"
      },
      "execution_count": 27,
      "outputs": [
        {
          "output_type": "display_data",
          "data": {
            "text/plain": [
              "<IPython.core.display.HTML object>"
            ],
            "text/html": [
              "\n",
              "     <input type=\"file\" id=\"files-8cf50487-a0a7-4850-84f0-59dc6d5ea64c\" name=\"files[]\" multiple disabled\n",
              "        style=\"border:none\" />\n",
              "     <output id=\"result-8cf50487-a0a7-4850-84f0-59dc6d5ea64c\">\n",
              "      Upload widget is only available when the cell has been executed in the\n",
              "      current browser session. Please rerun this cell to enable.\n",
              "      </output>\n",
              "      <script>// Copyright 2017 Google LLC\n",
              "//\n",
              "// Licensed under the Apache License, Version 2.0 (the \"License\");\n",
              "// you may not use this file except in compliance with the License.\n",
              "// You may obtain a copy of the License at\n",
              "//\n",
              "//      http://www.apache.org/licenses/LICENSE-2.0\n",
              "//\n",
              "// Unless required by applicable law or agreed to in writing, software\n",
              "// distributed under the License is distributed on an \"AS IS\" BASIS,\n",
              "// WITHOUT WARRANTIES OR CONDITIONS OF ANY KIND, either express or implied.\n",
              "// See the License for the specific language governing permissions and\n",
              "// limitations under the License.\n",
              "\n",
              "/**\n",
              " * @fileoverview Helpers for google.colab Python module.\n",
              " */\n",
              "(function(scope) {\n",
              "function span(text, styleAttributes = {}) {\n",
              "  const element = document.createElement('span');\n",
              "  element.textContent = text;\n",
              "  for (const key of Object.keys(styleAttributes)) {\n",
              "    element.style[key] = styleAttributes[key];\n",
              "  }\n",
              "  return element;\n",
              "}\n",
              "\n",
              "// Max number of bytes which will be uploaded at a time.\n",
              "const MAX_PAYLOAD_SIZE = 100 * 1024;\n",
              "\n",
              "function _uploadFiles(inputId, outputId) {\n",
              "  const steps = uploadFilesStep(inputId, outputId);\n",
              "  const outputElement = document.getElementById(outputId);\n",
              "  // Cache steps on the outputElement to make it available for the next call\n",
              "  // to uploadFilesContinue from Python.\n",
              "  outputElement.steps = steps;\n",
              "\n",
              "  return _uploadFilesContinue(outputId);\n",
              "}\n",
              "\n",
              "// This is roughly an async generator (not supported in the browser yet),\n",
              "// where there are multiple asynchronous steps and the Python side is going\n",
              "// to poll for completion of each step.\n",
              "// This uses a Promise to block the python side on completion of each step,\n",
              "// then passes the result of the previous step as the input to the next step.\n",
              "function _uploadFilesContinue(outputId) {\n",
              "  const outputElement = document.getElementById(outputId);\n",
              "  const steps = outputElement.steps;\n",
              "\n",
              "  const next = steps.next(outputElement.lastPromiseValue);\n",
              "  return Promise.resolve(next.value.promise).then((value) => {\n",
              "    // Cache the last promise value to make it available to the next\n",
              "    // step of the generator.\n",
              "    outputElement.lastPromiseValue = value;\n",
              "    return next.value.response;\n",
              "  });\n",
              "}\n",
              "\n",
              "/**\n",
              " * Generator function which is called between each async step of the upload\n",
              " * process.\n",
              " * @param {string} inputId Element ID of the input file picker element.\n",
              " * @param {string} outputId Element ID of the output display.\n",
              " * @return {!Iterable<!Object>} Iterable of next steps.\n",
              " */\n",
              "function* uploadFilesStep(inputId, outputId) {\n",
              "  const inputElement = document.getElementById(inputId);\n",
              "  inputElement.disabled = false;\n",
              "\n",
              "  const outputElement = document.getElementById(outputId);\n",
              "  outputElement.innerHTML = '';\n",
              "\n",
              "  const pickedPromise = new Promise((resolve) => {\n",
              "    inputElement.addEventListener('change', (e) => {\n",
              "      resolve(e.target.files);\n",
              "    });\n",
              "  });\n",
              "\n",
              "  const cancel = document.createElement('button');\n",
              "  inputElement.parentElement.appendChild(cancel);\n",
              "  cancel.textContent = 'Cancel upload';\n",
              "  const cancelPromise = new Promise((resolve) => {\n",
              "    cancel.onclick = () => {\n",
              "      resolve(null);\n",
              "    };\n",
              "  });\n",
              "\n",
              "  // Wait for the user to pick the files.\n",
              "  const files = yield {\n",
              "    promise: Promise.race([pickedPromise, cancelPromise]),\n",
              "    response: {\n",
              "      action: 'starting',\n",
              "    }\n",
              "  };\n",
              "\n",
              "  cancel.remove();\n",
              "\n",
              "  // Disable the input element since further picks are not allowed.\n",
              "  inputElement.disabled = true;\n",
              "\n",
              "  if (!files) {\n",
              "    return {\n",
              "      response: {\n",
              "        action: 'complete',\n",
              "      }\n",
              "    };\n",
              "  }\n",
              "\n",
              "  for (const file of files) {\n",
              "    const li = document.createElement('li');\n",
              "    li.append(span(file.name, {fontWeight: 'bold'}));\n",
              "    li.append(span(\n",
              "        `(${file.type || 'n/a'}) - ${file.size} bytes, ` +\n",
              "        `last modified: ${\n",
              "            file.lastModifiedDate ? file.lastModifiedDate.toLocaleDateString() :\n",
              "                                    'n/a'} - `));\n",
              "    const percent = span('0% done');\n",
              "    li.appendChild(percent);\n",
              "\n",
              "    outputElement.appendChild(li);\n",
              "\n",
              "    const fileDataPromise = new Promise((resolve) => {\n",
              "      const reader = new FileReader();\n",
              "      reader.onload = (e) => {\n",
              "        resolve(e.target.result);\n",
              "      };\n",
              "      reader.readAsArrayBuffer(file);\n",
              "    });\n",
              "    // Wait for the data to be ready.\n",
              "    let fileData = yield {\n",
              "      promise: fileDataPromise,\n",
              "      response: {\n",
              "        action: 'continue',\n",
              "      }\n",
              "    };\n",
              "\n",
              "    // Use a chunked sending to avoid message size limits. See b/62115660.\n",
              "    let position = 0;\n",
              "    do {\n",
              "      const length = Math.min(fileData.byteLength - position, MAX_PAYLOAD_SIZE);\n",
              "      const chunk = new Uint8Array(fileData, position, length);\n",
              "      position += length;\n",
              "\n",
              "      const base64 = btoa(String.fromCharCode.apply(null, chunk));\n",
              "      yield {\n",
              "        response: {\n",
              "          action: 'append',\n",
              "          file: file.name,\n",
              "          data: base64,\n",
              "        },\n",
              "      };\n",
              "\n",
              "      let percentDone = fileData.byteLength === 0 ?\n",
              "          100 :\n",
              "          Math.round((position / fileData.byteLength) * 100);\n",
              "      percent.textContent = `${percentDone}% done`;\n",
              "\n",
              "    } while (position < fileData.byteLength);\n",
              "  }\n",
              "\n",
              "  // All done.\n",
              "  yield {\n",
              "    response: {\n",
              "      action: 'complete',\n",
              "    }\n",
              "  };\n",
              "}\n",
              "\n",
              "scope.google = scope.google || {};\n",
              "scope.google.colab = scope.google.colab || {};\n",
              "scope.google.colab._files = {\n",
              "  _uploadFiles,\n",
              "  _uploadFilesContinue,\n",
              "};\n",
              "})(self);\n",
              "</script> "
            ]
          },
          "metadata": {}
        },
        {
          "output_type": "stream",
          "name": "stdout",
          "text": [
            "Saving kaggle.json to kaggle (1).json\n"
          ]
        },
        {
          "output_type": "execute_result",
          "data": {
            "text/plain": [
              "{'kaggle.json': b'{\"username\":\"arkoncandidato\",\"key\":\"9418335fb96960d7242aebcd1a24dd55\"}'}"
            ]
          },
          "metadata": {},
          "execution_count": 27
        }
      ]
    },
    {
      "cell_type": "markdown",
      "source": [
        "Asegurrese que cargo su archivo kaggle.json"
      ],
      "metadata": {
        "id": "x9L7sFZzzVWs"
      }
    },
    {
      "cell_type": "code",
      "source": [
        "!ls -lha kaggle.json"
      ],
      "metadata": {
        "colab": {
          "base_uri": "https://localhost:8080/",
          "height": 0
        },
        "id": "5DM4IE8ox5NF",
        "outputId": "39bdabbf-b314-4044-cf2a-f210c83fae17"
      },
      "execution_count": 28,
      "outputs": [
        {
          "output_type": "stream",
          "name": "stdout",
          "text": [
            "-rw-r--r-- 1 root root 70 Oct  7 21:26 kaggle.json\n"
          ]
        }
      ]
    },
    {
      "cell_type": "markdown",
      "source": [
        "Instale la API de Kaggle."
      ],
      "metadata": {
        "id": "WhwLJcK-ztaS"
      }
    },
    {
      "cell_type": "code",
      "source": [
        " #!pip install -q kaggle"
      ],
      "metadata": {
        "id": "yN2R3rmXvDaf"
      },
      "execution_count": 29,
      "outputs": []
    },
    {
      "cell_type": "markdown",
      "source": [
        "La API de kaggle espera que el archivo esté en ~/.kaggle. Así que muevalo."
      ],
      "metadata": {
        "id": "d90bG5Ifz1Gj"
      }
    },
    {
      "cell_type": "code",
      "source": [
        "!mkdir -p ~/.kaggle\n",
        "!cp kaggle.json ~/.kaggle/"
      ],
      "metadata": {
        "id": "CYI_HdnsyFGE"
      },
      "execution_count": 30,
      "outputs": []
    },
    {
      "cell_type": "markdown",
      "source": [
        "Configure los permisos"
      ],
      "metadata": {
        "id": "qIXlT68y0AZ0"
      }
    },
    {
      "cell_type": "code",
      "source": [
        "!chmod 600 /root/.kaggle/kaggle.json"
      ],
      "metadata": {
        "id": "nIRAsjQJyKBV"
      },
      "execution_count": 31,
      "outputs": []
    },
    {
      "cell_type": "markdown",
      "source": [
        "Verifique su directorio."
      ],
      "metadata": {
        "id": "H_gYLQry0S1-"
      }
    },
    {
      "cell_type": "code",
      "source": [
        "!pwd"
      ],
      "metadata": {
        "colab": {
          "base_uri": "https://localhost:8080/",
          "height": 0
        },
        "id": "hFe5669uyPl2",
        "outputId": "f92019eb-f277-458b-830f-406a6dcc5bd9"
      },
      "execution_count": 32,
      "outputs": [
        {
          "output_type": "stream",
          "name": "stdout",
          "text": [
            "/content\n"
          ]
        }
      ]
    },
    {
      "cell_type": "markdown",
      "source": [
        "Lista de datos disponibles."
      ],
      "metadata": {
        "id": "YFYyo8PY0crI"
      }
    },
    {
      "cell_type": "code",
      "source": [
        "!kaggle datasets list"
      ],
      "metadata": {
        "colab": {
          "base_uri": "https://localhost:8080/",
          "height": 0
        },
        "id": "o8u2WYOQyU09",
        "outputId": "1d08edef-13fa-4417-ac5f-4397545e7a1a"
      },
      "execution_count": 33,
      "outputs": [
        {
          "output_type": "stream",
          "name": "stdout",
          "text": [
            "ref                                                            title                                                size  lastUpdated          downloadCount  voteCount  usabilityRating  \n",
            "-------------------------------------------------------------  --------------------------------------------------  -----  -------------------  -------------  ---------  ---------------  \n",
            "iamsouravbanerjee/world-population-dataset                     World Population Dataset                             17KB  2022-08-31 11:20:04          13913        393  1.0              \n",
            "narayan63/netflix-popular-movies-dataset                       Netflix popular movies dataset                        1MB  2022-09-24 08:23:22           1855         41  0.9411765        \n",
            "anushabellam/trending-videos-on-youtube                        Trending videos on Youtube                           29KB  2022-09-20 12:12:35           1240         36  1.0              \n",
            "pantanjali/unemployment-dataset                                Unemployment dataset                                 17KB  2022-09-08 08:26:10           5013        120  1.0              \n",
            "whenamancodes/student-performance                              Student Performance                                 104KB  2022-10-07 05:14:47           3314         83  1.0              \n",
            "ibrahimelsayed182/plane-ticket-price                           Plane ticket price                                  591KB  2022-09-27 18:35:43            950         26  0.85294116       \n",
            "whenamancodes/students-performance-in-exams                    Students Performance in Exams                         9KB  2022-09-14 15:14:54           3380         64  1.0              \n",
            "whenamancodes/hr-employee-attrition                            Employee Analysis | Attrition Report                 50KB  2022-09-12 10:46:33           1769         54  1.0              \n",
            "nyagami/video-game-ratings-from-imdb                           Video game ratings from imdb                        963KB  2022-09-19 04:18:07            924         34  1.0              \n",
            "mattop/2022nfl-team-offense                                    2022 NFL Team Offense                                 5KB  2022-10-05 00:32:38            618         28  0.9705882        \n",
            "thedevastator/airplane-crashes-and-fatalities                  Airplane Crashes and Fatalities                     582KB  2022-09-20 05:30:35           1797         62  1.0              \n",
            "vijayaadithyanvg/breast-cancer-prediction                      Breast Cancer Prediction                             49KB  2022-09-22 09:57:09            773         28  0.9705882        \n",
            "ariyoomotade/netflix-data-cleaning-analysis-and-visualization  Netflix Data: Cleaning, Analysis and Visualization  270KB  2022-08-26 09:25:43           6980        157  1.0              \n",
            "ruchi798/analyzing-screen-time                                 Analyzing Screen Time                                 2KB  2022-09-22 23:58:02            667         28  0.88235295       \n",
            "madhurpant/world-population-data                               World Population Data                                 9KB  2022-09-23 16:39:15            918         25  1.0              \n",
            "whenamancodes/alcohol-effects-on-study                         Alcohol Effects On Study                             18KB  2022-09-15 03:21:04           2207         64  1.0              \n",
            "cashncarry/fifa-23-complete-player-dataset                     FIFA 23 Complete Player Dataset [UPD:29/09/22]        2MB  2022-09-29 19:34:27            903         35  0.88235295       \n",
            "whenamancodes/violence-against-women-girls                     Violence Against Women & Girls                       88KB  2022-09-12 08:46:49           1365         52  1.0              \n",
            "harshsingh2209/tesla-stock-pricing-20172022                    TESLA stock pricing (2017-2022)                      28KB  2022-09-18 14:56:29           1135         35  1.0              \n",
            "madhurpant/world-economic-data                                 World Economic Data                                   5KB  2022-09-24 10:15:12           1126         32  1.0              \n"
          ]
        }
      ]
    },
    {
      "cell_type": "markdown",
      "source": [
        "Descarge el archivo de prueba."
      ],
      "metadata": {
        "id": "jNA6UZct0iT7"
      }
    },
    {
      "cell_type": "code",
      "source": [
        "! kaggle competitions download -c ds-programming-test"
      ],
      "metadata": {
        "id": "VD5WxkloveBY",
        "colab": {
          "base_uri": "https://localhost:8080/",
          "height": 0
        },
        "outputId": "1242729b-d988-45dd-d681-ba816bd46f36"
      },
      "execution_count": 34,
      "outputs": [
        {
          "output_type": "stream",
          "name": "stdout",
          "text": [
            "Downloading ds-programming-test.zip to /content\n",
            " 48% 17.0M/35.5M [00:00<00:00, 24.9MB/s]\n",
            "100% 35.5M/35.5M [00:00<00:00, 46.6MB/s]\n"
          ]
        }
      ]
    },
    {
      "cell_type": "markdown",
      "source": [
        "Descomprima el archivo"
      ],
      "metadata": {
        "id": "pMHk4hXr0oMK"
      }
    },
    {
      "cell_type": "code",
      "source": [
        "!unzip ds-programming-test.zip"
      ],
      "metadata": {
        "id": "I0DTVXN40niz",
        "colab": {
          "base_uri": "https://localhost:8080/",
          "height": 0
        },
        "outputId": "c9600ac4-a31c-42fb-b4e8-78b10c808268"
      },
      "execution_count": 35,
      "outputs": [
        {
          "output_type": "stream",
          "name": "stdout",
          "text": [
            "Archive:  ds-programming-test.zip\n",
            "  inflating: sample_submission.csv   \n",
            "  inflating: test_set.csv            \n",
            "  inflating: train_set.csv           \n"
          ]
        }
      ]
    },
    {
      "cell_type": "markdown",
      "source": [],
      "metadata": {
        "id": "AjOh3pJx-25Z"
      }
    },
    {
      "cell_type": "code",
      "source": [
        "test = pd.read_csv(\"/content/test_set.csv\")"
      ],
      "metadata": {
        "colab": {
          "base_uri": "https://localhost:8080/",
          "height": 0
        },
        "id": "Q9BGWnIw1aPE",
        "outputId": "c74bcf11-49c9-4a86-838b-e7547c151b17"
      },
      "execution_count": 36,
      "outputs": [
        {
          "output_type": "stream",
          "name": "stderr",
          "text": [
            "/usr/local/lib/python3.7/dist-packages/IPython/core/interactiveshell.py:3326: DtypeWarning: Columns (8) have mixed types.Specify dtype option on import or set low_memory=False.\n",
            "  exec(code_obj, self.user_global_ns, self.user_ns)\n"
          ]
        }
      ]
    },
    {
      "cell_type": "code",
      "source": [
        "train = pd.read_csv(\"/content/train_set.csv\")"
      ],
      "metadata": {
        "id": "3hpasj1z2GO9"
      },
      "execution_count": 37,
      "outputs": []
    },
    {
      "cell_type": "code",
      "source": [
        "muestra = pd.read_csv(\"/content/sample_submission.csv\")"
      ],
      "metadata": {
        "id": "Ra-0SiAK-1AS"
      },
      "execution_count": 38,
      "outputs": []
    },
    {
      "cell_type": "markdown",
      "source": [
        "### **1. Exploratorio de datos**\n",
        "\n",
        "Para comenzar la asignación se requiere realizar un análisis\n",
        "exploratorio de datos que busque contestar preguntas relevantes a los siguientes dos temas:"
      ],
      "metadata": {
        "id": "1S4E1qiKtKu9"
      }
    },
    {
      "cell_type": "markdown",
      "source": [
        "**1. 1 Saturación del servicio:**\n",
        "\n",
        "La empresa busca contar con la disponibilidad más alta\n",
        "de servicio en el mercado, por lo que se quiere entender cómo se comporta la demanda de servicio en las distintas estaciones y horarios para cada plan."
      ],
      "metadata": {
        "id": "FPlNSW2ftdWd"
      }
    },
    {
      "cell_type": "markdown",
      "source": [
        "Paquetes:"
      ],
      "metadata": {
        "id": "DujyAAlR5NaG"
      }
    },
    {
      "cell_type": "code",
      "source": [
        "import numpy as np\n",
        "import matplotlib.pyplot as plt\n",
        "import datetime"
      ],
      "metadata": {
        "id": "_JvXzaz65PzK"
      },
      "execution_count": 39,
      "outputs": []
    },
    {
      "cell_type": "markdown",
      "source": [
        "Listas de campos:"
      ],
      "metadata": {
        "id": "2nMCF2XT4t5H"
      }
    },
    {
      "cell_type": "code",
      "source": [
        "test.columns"
      ],
      "metadata": {
        "colab": {
          "base_uri": "https://localhost:8080/",
          "height": 0
        },
        "id": "W9zkZk8h_XJv",
        "outputId": "31a3f30e-b8b3-4397-db51-a85aca4c69b8"
      },
      "execution_count": 40,
      "outputs": [
        {
          "output_type": "execute_result",
          "data": {
            "text/plain": [
              "Index(['trip_id', 'duration', 'start_time', 'end_time', 'start_lat',\n",
              "       'start_lon', 'end_lat', 'end_lon', 'bike_id', 'trip_route_category',\n",
              "       'start_station', 'end_station'],\n",
              "      dtype='object')"
            ]
          },
          "metadata": {},
          "execution_count": 40
        }
      ]
    },
    {
      "cell_type": "code",
      "source": [
        "train.columns"
      ],
      "metadata": {
        "colab": {
          "base_uri": "https://localhost:8080/",
          "height": 0
        },
        "id": "XdUxhONCUhMi",
        "outputId": "ff1ed9c2-8ea4-418a-f787-09f0cfa91ea6"
      },
      "execution_count": 41,
      "outputs": [
        {
          "output_type": "execute_result",
          "data": {
            "text/plain": [
              "Index(['trip_id', 'duration', 'start_time', 'end_time', 'start_lat',\n",
              "       'start_lon', 'end_lat', 'end_lon', 'bike_id', 'plan_duration',\n",
              "       'trip_route_category', 'passholder_type', 'start_station',\n",
              "       'end_station'],\n",
              "      dtype='object')"
            ]
          },
          "metadata": {},
          "execution_count": 41
        }
      ]
    },
    {
      "cell_type": "code",
      "source": [
        "muestra.columns"
      ],
      "metadata": {
        "colab": {
          "base_uri": "https://localhost:8080/",
          "height": 0
        },
        "id": "7GMcPjaD3BpI",
        "outputId": "bc36db4e-d54f-47b5-faf3-5183afc411ea"
      },
      "execution_count": 42,
      "outputs": [
        {
          "output_type": "execute_result",
          "data": {
            "text/plain": [
              "Index(['trip_id', 'passholder_type'], dtype='object')"
            ]
          },
          "metadata": {},
          "execution_count": 42
        }
      ]
    },
    {
      "cell_type": "markdown",
      "source": [
        "Lista de planes:"
      ],
      "metadata": {
        "id": "Nx8ZwsMfSplf"
      }
    },
    {
      "cell_type": "code",
      "source": [
        "train.passholder_type.drop_duplicates()"
      ],
      "metadata": {
        "colab": {
          "base_uri": "https://localhost:8080/",
          "height": 0
        },
        "id": "10sU9u4gSvB5",
        "outputId": "4cd2d4fb-72bb-43e0-8d3f-611c2bfe1fb7"
      },
      "execution_count": 43,
      "outputs": [
        {
          "output_type": "execute_result",
          "data": {
            "text/plain": [
              "0            Walk-up\n",
              "2       Monthly Pass\n",
              "3       One Day Pass\n",
              "24       Annual Pass\n",
              "85         Flex Pass\n",
              "116              NaN\n",
              "1652         Testing\n",
              "Name: passholder_type, dtype: object"
            ]
          },
          "metadata": {},
          "execution_count": 43
        }
      ]
    },
    {
      "cell_type": "markdown",
      "source": [
        "- El sistema cuenta con 364 estaciones diferentes."
      ],
      "metadata": {
        "id": "F3wlZgjX4xLN"
      }
    },
    {
      "cell_type": "code",
      "source": [
        "train.start_station.drop_duplicates()"
      ],
      "metadata": {
        "colab": {
          "base_uri": "https://localhost:8080/",
          "height": 0
        },
        "id": "KT-h4i983Vcq",
        "outputId": "778bc90d-89c0-45f7-b743-19a7ae0c9667"
      },
      "execution_count": 44,
      "outputs": [
        {
          "output_type": "execute_result",
          "data": {
            "text/plain": [
              "0         4127\n",
              "1         3057\n",
              "2         3022\n",
              "3         4304\n",
              "4         4266\n",
              "          ... \n",
              "136557    4395\n",
              "157146    4363\n",
              "252719    4373\n",
              "501744    4143\n",
              "502217    4327\n",
              "Name: start_station, Length: 364, dtype: int64"
            ]
          },
          "metadata": {},
          "execution_count": 44
        }
      ]
    },
    {
      "cell_type": "markdown",
      "source": [
        "- Sólo hay dos tipos de viaje: Unidirecciones e Ida y vuelta."
      ],
      "metadata": {
        "id": "RKMqqBgQAMGQ"
      }
    },
    {
      "cell_type": "code",
      "source": [
        "train.trip_route_category.drop_duplicates()"
      ],
      "metadata": {
        "colab": {
          "base_uri": "https://localhost:8080/",
          "height": 0
        },
        "id": "iWxmVSns_K1C",
        "outputId": "7190c0ff-1311-46da-f6db-8b633143e87d"
      },
      "execution_count": 45,
      "outputs": [
        {
          "output_type": "execute_result",
          "data": {
            "text/plain": [
              "0    Round Trip\n",
              "1       One Way\n",
              "Name: trip_route_category, dtype: object"
            ]
          },
          "metadata": {},
          "execution_count": 45
        }
      ]
    },
    {
      "cell_type": "markdown",
      "source": [
        "- Las estaciones que son mucho más usadas son las que comienzan con 30, 31 y  42.\n",
        "\n",
        "- Los viajes unidireccionales son los más populares."
      ],
      "metadata": {
        "id": "9CVAyQa442LS"
      }
    },
    {
      "cell_type": "code",
      "source": [
        "n, bins, patches = plt.hist(x=train.start_station, bins='auto', color='#0504aa',\n",
        "                            alpha=0.7, rwidth=0.85)\n",
        "plt.grid(axis='y', alpha=0.75)\n",
        "plt.xlabel('Estación')\n",
        "plt.ylabel('Frecuencia absoluta')\n",
        "plt.title('Frecuencia de uso por estación | Global')\n",
        "maxfreq = n.max()"
      ],
      "metadata": {
        "colab": {
          "base_uri": "https://localhost:8080/",
          "height": 295
        },
        "id": "ZaGhR2ET4_kc",
        "outputId": "ae0d0be2-3eab-4a64-fd4e-756b24c3b265"
      },
      "execution_count": 46,
      "outputs": [
        {
          "output_type": "display_data",
          "data": {
            "text/plain": [
              "<Figure size 432x288 with 1 Axes>"
            ],
            "image/png": "[encoded data removed]"
          },
          "metadata": {
            "needs_background": "light"
          }
        }
      ]
    },
    {
      "cell_type": "code",
      "source": [
        "estaciones = train.loc[train['passholder_type']=='Walk-up'].start_station\n",
        "n, bins, patches = plt.hist(x=estaciones, bins='auto', color='#0504aa',\n",
        "                            alpha=0.7, rwidth=0.85)\n",
        "plt.grid(axis='y', alpha=0.75)\n",
        "plt.xlabel('Estación')\n",
        "plt.ylabel('Frecuencia absoluta')\n",
        "plt.title('Frecuencia de uso por estación | Walk-up')\n",
        "maxfreq = n.max()"
      ],
      "metadata": {
        "colab": {
          "base_uri": "https://localhost:8080/",
          "height": 295
        },
        "id": "wNlGYkKbAkPQ",
        "outputId": "6d2fa65f-516e-4a28-84b6-8a7e191dfc6c"
      },
      "execution_count": 47,
      "outputs": [
        {
          "output_type": "display_data",
          "data": {
            "text/plain": [
              "<Figure size 432x288 with 1 Axes>"
            ],
            "image/png": "[encoded data removed]"
          },
          "metadata": {
            "needs_background": "light"
          }
        }
      ]
    },
    {
      "cell_type": "code",
      "source": [
        "estaciones = train.loc[train['passholder_type']=='Monthly Pass'].start_station\n",
        "n, bins, patches = plt.hist(x=estaciones, bins='auto', color='#0504aa',\n",
        "                            alpha=0.7, rwidth=0.85)\n",
        "plt.grid(axis='y', alpha=0.75)\n",
        "plt.xlabel('Estación')\n",
        "plt.ylabel('Frecuencia absoluta')\n",
        "plt.title('Frecuencia de uso por estación | Monthly Pass')\n",
        "maxfreq = n.max()"
      ],
      "metadata": {
        "colab": {
          "base_uri": "https://localhost:8080/",
          "height": 295
        },
        "id": "zuzeBow2B7DW",
        "outputId": "c3163a53-6e91-4bea-db57-776a3c24e64d"
      },
      "execution_count": 48,
      "outputs": [
        {
          "output_type": "display_data",
          "data": {
            "text/plain": [
              "<Figure size 432x288 with 1 Axes>"
            ],
            "image/png": "[encoded data removed]"
          },
          "metadata": {
            "needs_background": "light"
          }
        }
      ]
    },
    {
      "cell_type": "code",
      "source": [
        "estaciones = train.loc[train['passholder_type']=='One Day Pass'].start_station\n",
        "n, bins, patches = plt.hist(x=estaciones, bins='auto', color='#0504aa',\n",
        "                            alpha=0.7, rwidth=0.85)\n",
        "plt.grid(axis='y', alpha=0.75)\n",
        "plt.xlabel('Estación')\n",
        "plt.ylabel('Frecuencia absoluta')\n",
        "plt.title('Frecuencia de uso por estación | One Day Pass')\n",
        "maxfreq = n.max()"
      ],
      "metadata": {
        "colab": {
          "base_uri": "https://localhost:8080/",
          "height": 295
        },
        "id": "TqtwIGs_Zf54",
        "outputId": "6d56654c-ac58-4093-80e7-c76726e7f3d6"
      },
      "execution_count": 49,
      "outputs": [
        {
          "output_type": "display_data",
          "data": {
            "text/plain": [
              "<Figure size 432x288 with 1 Axes>"
            ],
            "image/png": "[encoded data removed]"
          },
          "metadata": {
            "needs_background": "light"
          }
        }
      ]
    },
    {
      "cell_type": "code",
      "source": [
        "estaciones = train.loc[train['passholder_type']=='Annual Pass'].start_station\n",
        "n, bins, patches = plt.hist(x=estaciones, bins='auto', color='#0504aa',\n",
        "                            alpha=0.7, rwidth=0.85)\n",
        "plt.grid(axis='y', alpha=0.75)\n",
        "plt.xlabel('Estación')\n",
        "plt.ylabel('Frecuencia absoluta')\n",
        "plt.title('Frecuencia de uso por estación | Annual Pass')\n",
        "maxfreq = n.max()"
      ],
      "metadata": {
        "colab": {
          "base_uri": "https://localhost:8080/",
          "height": 295
        },
        "id": "zxwAmBCjZ3zl",
        "outputId": "34a135f4-6a3a-4b14-eae8-291b2978b700"
      },
      "execution_count": 50,
      "outputs": [
        {
          "output_type": "display_data",
          "data": {
            "text/plain": [
              "<Figure size 432x288 with 1 Axes>"
            ],
            "image/png": "[encoded data removed]"
          },
          "metadata": {
            "needs_background": "light"
          }
        }
      ]
    },
    {
      "cell_type": "code",
      "source": [
        "estaciones = train.loc[train['passholder_type']=='Flex Pass'].start_station\n",
        "n, bins, patches = plt.hist(x=estaciones, bins='auto', color='#0504aa',\n",
        "                            alpha=0.7, rwidth=0.85)\n",
        "plt.grid(axis='y', alpha=0.75)\n",
        "plt.xlabel('Estación')\n",
        "plt.ylabel('Frecuencia absoluta')\n",
        "plt.title('Frecuencia de uso por estación | Flex Pass')\n",
        "maxfreq = n.max()"
      ],
      "metadata": {
        "colab": {
          "base_uri": "https://localhost:8080/",
          "height": 295
        },
        "id": "NB8LpSiHZ7Q6",
        "outputId": "a1983f80-90fc-4da2-d1eb-718afa1bf33a"
      },
      "execution_count": 51,
      "outputs": [
        {
          "output_type": "display_data",
          "data": {
            "text/plain": [
              "<Figure size 432x288 with 1 Axes>"
            ],
            "image/png": "[encoded data removed]"
          },
          "metadata": {
            "needs_background": "light"
          }
        }
      ]
    },
    {
      "cell_type": "markdown",
      "source": [
        "- La mayoria de los viajes entre las 8 y 20 horas, siendo la hora pico las 17 hrs.\n",
        "\n",
        "- La demanda de los viajes de ida y vuelta se mantiene aproximadamente constante entre las 12 y 17 horas, mientras que los viajes unidireccionales no se mantienen estables."
      ],
      "metadata": {
        "id": "Ih4CzDqg9s7j"
      }
    },
    {
      "cell_type": "code",
      "source": [
        "hora = [pd.to_datetime(x).hour for x in train.start_time] \n",
        "n, bins, patches = plt.hist(x=hora , bins='auto', color='#0504aa',\n",
        "                            alpha=0.7, rwidth=0.85)\n",
        "plt.grid(axis='y', alpha=0.75)\n",
        "plt.xlabel('Hora')\n",
        "plt.ylabel('Frecuencia absoluta')\n",
        "plt.title('Frecuencia de uso por Hora')\n",
        "maxfreq = n.max()"
      ],
      "metadata": {
        "colab": {
          "base_uri": "https://localhost:8080/",
          "height": 295
        },
        "id": "_y902XaP6PD1",
        "outputId": "31b1082b-a1ca-4cfd-d93d-8f55f2479572"
      },
      "execution_count": 52,
      "outputs": [
        {
          "output_type": "display_data",
          "data": {
            "text/plain": [
              "<Figure size 432x288 with 1 Axes>"
            ],
            "image/png": "[encoded data removed]"
          },
          "metadata": {
            "needs_background": "light"
          }
        }
      ]
    },
    {
      "cell_type": "code",
      "source": [
        "hora = [pd.to_datetime(x).hour for x in train.loc[train['passholder_type']=='Walk-up'].start_time] \n",
        "n, bins, patches = plt.hist(x=hora , bins='auto', color='#0504aa',\n",
        "                            alpha=0.7, rwidth=0.85)\n",
        "plt.grid(axis='y', alpha=0.75)\n",
        "plt.xlabel('Hora')\n",
        "plt.ylabel('Frecuencia absoluta')\n",
        "plt.title('Frecuencia de uso por Hora | Walk-up')\n",
        "maxfreq = n.max()"
      ],
      "metadata": {
        "colab": {
          "base_uri": "https://localhost:8080/",
          "height": 295
        },
        "id": "9w7mdXPnD9Cg",
        "outputId": "28d54507-9fb1-4ca4-dade-614e6767ef57"
      },
      "execution_count": 53,
      "outputs": [
        {
          "output_type": "display_data",
          "data": {
            "text/plain": [
              "<Figure size 432x288 with 1 Axes>"
            ],
            "image/png": "[encoded data removed]"
          },
          "metadata": {
            "needs_background": "light"
          }
        }
      ]
    },
    {
      "cell_type": "code",
      "source": [
        "hora = [pd.to_datetime(x).hour for x in train.loc[train['passholder_type'] == 'Monthly Pass'].start_time] \n",
        "n, bins, patches = plt.hist(x=hora , bins='auto', color='#0504aa',\n",
        "                            alpha=0.7, rwidth=0.85)\n",
        "plt.grid(axis='y', alpha=0.75)\n",
        "plt.xlabel('Hora')\n",
        "plt.ylabel('Frecuencia absoluta')\n",
        "plt.title('Frecuencia de uso por Hora | Monthly Pass')\n",
        "maxfreq = n.max()"
      ],
      "metadata": {
        "colab": {
          "base_uri": "https://localhost:8080/",
          "height": 295
        },
        "id": "5f-8uAtbTa1z",
        "outputId": "3d6795a6-dadc-400f-e98e-e2b057495a40"
      },
      "execution_count": 54,
      "outputs": [
        {
          "output_type": "display_data",
          "data": {
            "text/plain": [
              "<Figure size 432x288 with 1 Axes>"
            ],
            "image/png": "[encoded data removed]"
          },
          "metadata": {
            "needs_background": "light"
          }
        }
      ]
    },
    {
      "cell_type": "code",
      "source": [
        "hora = [pd.to_datetime(x).hour for x in train.loc[train['passholder_type'] == 'One Day Pass'].start_time] \n",
        "n, bins, patches = plt.hist(x=hora , bins='auto', color='#0504aa',\n",
        "                            alpha=0.7, rwidth=0.85)\n",
        "plt.grid(axis='y', alpha=0.75)\n",
        "plt.xlabel('Hora')\n",
        "plt.ylabel('Frecuencia absoluta')\n",
        "plt.title('Frecuencia de uso por Hora | One Day Pass')\n",
        "maxfreq = n.max()"
      ],
      "metadata": {
        "colab": {
          "base_uri": "https://localhost:8080/",
          "height": 295
        },
        "id": "s3i_4lg5TczH",
        "outputId": "03eda9f6-8686-4f43-ce07-e914d01a8ae1"
      },
      "execution_count": 55,
      "outputs": [
        {
          "output_type": "display_data",
          "data": {
            "text/plain": [
              "<Figure size 432x288 with 1 Axes>"
            ],
            "image/png": "[encoded data removed]"
          },
          "metadata": {
            "needs_background": "light"
          }
        }
      ]
    },
    {
      "cell_type": "code",
      "source": [
        "hora = [pd.to_datetime(x).hour for x in train.loc[train['passholder_type'] == 'Annual Pass'].start_time] \n",
        "n, bins, patches = plt.hist(x=hora , bins='auto', color='#0504aa',\n",
        "                            alpha=0.7, rwidth=0.85)\n",
        "plt.grid(axis='y', alpha=0.75)\n",
        "plt.xlabel('Hora')\n",
        "plt.ylabel('Frecuencia absoluta')\n",
        "plt.title('Frecuencia de uso por Hora | Annual Pass')\n",
        "maxfreq = n.max()"
      ],
      "metadata": {
        "colab": {
          "base_uri": "https://localhost:8080/",
          "height": 295
        },
        "id": "o9liI71OTdzi",
        "outputId": "0efb65fc-913c-4066-e6a5-ab57dc0bd043"
      },
      "execution_count": 56,
      "outputs": [
        {
          "output_type": "display_data",
          "data": {
            "text/plain": [
              "<Figure size 432x288 with 1 Axes>"
            ],
            "image/png": "[encoded data removed]"
          },
          "metadata": {
            "needs_background": "light"
          }
        }
      ]
    },
    {
      "cell_type": "code",
      "source": [
        "hora = [pd.to_datetime(x).hour for x in train.loc[train['passholder_type'] == 'Flex Pass'].start_time] \n",
        "n, bins, patches = plt.hist(x=hora , bins='auto', color='#0504aa',\n",
        "                            alpha=0.7, rwidth=0.85)\n",
        "plt.grid(axis='y', alpha=0.75)\n",
        "plt.xlabel('Hora')\n",
        "plt.ylabel('Frecuencia absoluta')\n",
        "plt.title('Frecuencia de uso por Hora | Flex Pass')\n",
        "maxfreq = n.max()"
      ],
      "metadata": {
        "colab": {
          "base_uri": "https://localhost:8080/",
          "height": 295
        },
        "id": "Meo-_cqfTevv",
        "outputId": "73ef49e0-9978-4fce-aab9-830cc25022b5"
      },
      "execution_count": 57,
      "outputs": [
        {
          "output_type": "display_data",
          "data": {
            "text/plain": [
              "<Figure size 432x288 with 1 Axes>"
            ],
            "image/png": "[encoded data removed]"
          },
          "metadata": {
            "needs_background": "light"
          }
        }
      ]
    },
    {
      "cell_type": "markdown",
      "source": [
        "**1. 2. Crecimiento de planes:**\n",
        "\n",
        "Se tiene la intuición que la tendencia en uso de bicicletas compartidas entre estaciones va a la alta, por lo que se requiere realizar una correcta planificación de bicicletas que deben tener. Adicionalmente, se espera que los planes de consumo anual crezcan en mayor\n",
        "proporción."
      ],
      "metadata": {
        "id": "Tmd2a_WFFi3u"
      }
    },
    {
      "cell_type": "markdown",
      "source": [
        "- La pandemia afecto negativamente al número de viajes.\n",
        "- El único paquete con una tendencia creciente de uso es *One Day Pass*."
      ],
      "metadata": {
        "id": "ErE32LJLOkw6"
      }
    },
    {
      "cell_type": "code",
      "source": [
        "dia = [pd.to_datetime(x).year + pd.to_datetime(x).month/12 +pd.to_datetime(x).day/30 for x in train.start_time]\n",
        "n, bins, patches = plt.hist(x=dia , bins='auto', color='#0504aa',\n",
        "                            alpha=0.7, rwidth=0.85)\n",
        "plt.grid(axis='y', alpha=0.75)\n",
        "plt.xlabel('Fecha')\n",
        "plt.ylabel('Frecuencia absoluta')\n",
        "plt.title('Frecuencia de uso por Fecha')\n",
        "maxfreq = n.max()"
      ],
      "metadata": {
        "colab": {
          "base_uri": "https://localhost:8080/",
          "height": 295
        },
        "id": "vcUiaKDTFiWU",
        "outputId": "b1968de0-cc0b-499e-d32b-92522cdc156b"
      },
      "execution_count": 58,
      "outputs": [
        {
          "output_type": "display_data",
          "data": {
            "text/plain": [
              "<Figure size 432x288 with 1 Axes>"
            ],
            "image/png": "[encoded data removed]"
          },
          "metadata": {
            "needs_background": "light"
          }
        }
      ]
    },
    {
      "cell_type": "code",
      "source": [
        "dia = [pd.to_datetime(x).year + pd.to_datetime(x).month/12 +pd.to_datetime(x).day/30 for x in train.loc[train['passholder_type']=='Walk-up'].start_time]\n",
        "n, bins, patches = plt.hist(x=dia , bins='auto', color='#0504aa',\n",
        "                            alpha=0.7, rwidth=0.85)\n",
        "plt.grid(axis='y', alpha=0.75)\n",
        "plt.xlabel('Fecha')\n",
        "plt.ylabel('Frecuencia absoluta')\n",
        "plt.title('Frecuencia de uso por Fecha | Walk-up')\n",
        "maxfreq = n.max()"
      ],
      "metadata": {
        "colab": {
          "base_uri": "https://localhost:8080/",
          "height": 295
        },
        "id": "Sl5GHrtKIK3N",
        "outputId": "ed808f84-b1e3-4987-eabb-9174554b5f7c"
      },
      "execution_count": 59,
      "outputs": [
        {
          "output_type": "display_data",
          "data": {
            "text/plain": [
              "<Figure size 432x288 with 1 Axes>"
            ],
            "image/png": "[encoded data removed]"
          },
          "metadata": {
            "needs_background": "light"
          }
        }
      ]
    },
    {
      "cell_type": "code",
      "source": [
        "dia = [pd.to_datetime(x).year + pd.to_datetime(x).month/12 +pd.to_datetime(x).day/30 for x in train.loc[train['passholder_type']=='Monthly Pass'].start_time]\n",
        "n, bins, patches = plt.hist(x=dia , bins='auto', color='#0504aa',\n",
        "                            alpha=0.7, rwidth=0.85)\n",
        "plt.grid(axis='y', alpha=0.75)\n",
        "plt.xlabel('Fecha')\n",
        "plt.ylabel('Frecuencia absoluta')\n",
        "plt.title('Frecuencia de uso por Fecha | Monthly Pass')\n",
        "maxfreq = n.max()"
      ],
      "metadata": {
        "colab": {
          "base_uri": "https://localhost:8080/",
          "height": 295
        },
        "id": "ZtkI3enJHFRn",
        "outputId": "015336a3-2dec-4258-d9fa-5725081ffb93"
      },
      "execution_count": 60,
      "outputs": [
        {
          "output_type": "display_data",
          "data": {
            "text/plain": [
              "<Figure size 432x288 with 1 Axes>"
            ],
            "image/png": "[encoded data removed]"
          },
          "metadata": {
            "needs_background": "light"
          }
        }
      ]
    },
    {
      "cell_type": "code",
      "source": [
        "dia = [pd.to_datetime(x).year + pd.to_datetime(x).month/12 +pd.to_datetime(x).day/30 for x in train.loc[train['passholder_type']=='One Day Pass'].start_time]\n",
        "n, bins, patches = plt.hist(x=dia , bins='auto', color='#0504aa',\n",
        "                            alpha=0.7, rwidth=0.85)\n",
        "plt.grid(axis='y', alpha=0.75)\n",
        "plt.xlabel('Fecha')\n",
        "plt.ylabel('Frecuencia absoluta')\n",
        "plt.title('Frecuencia de uso por Fecha | One Day Pass')\n",
        "maxfreq = n.max()"
      ],
      "metadata": {
        "colab": {
          "base_uri": "https://localhost:8080/",
          "height": 295
        },
        "id": "yCLeZOo5atvI",
        "outputId": "84c1c0fa-162b-49ec-9c65-6013c9c92d63"
      },
      "execution_count": 61,
      "outputs": [
        {
          "output_type": "display_data",
          "data": {
            "text/plain": [
              "<Figure size 432x288 with 1 Axes>"
            ],
            "image/png": "[encoded data removed]"
          },
          "metadata": {
            "needs_background": "light"
          }
        }
      ]
    },
    {
      "cell_type": "code",
      "source": [
        "dia = [pd.to_datetime(x).year + pd.to_datetime(x).month/12 +pd.to_datetime(x).day/30 for x in train.loc[train['passholder_type']=='Annual Pass'].start_time]\n",
        "n, bins, patches = plt.hist(x=dia , bins='auto', color='#0504aa',\n",
        "                            alpha=0.7, rwidth=0.85)\n",
        "plt.grid(axis='y', alpha=0.75)\n",
        "plt.xlabel('Fecha')\n",
        "plt.ylabel('Frecuencia absoluta')\n",
        "plt.title('Frecuencia de uso por Fecha | Annual Pass')\n",
        "maxfreq = n.max()"
      ],
      "metadata": {
        "colab": {
          "base_uri": "https://localhost:8080/",
          "height": 295
        },
        "id": "q6RPHfdqaxR5",
        "outputId": "bca27a36-bbba-4b91-e520-309e86d64a55"
      },
      "execution_count": 62,
      "outputs": [
        {
          "output_type": "display_data",
          "data": {
            "text/plain": [
              "<Figure size 432x288 with 1 Axes>"
            ],
            "image/png": "[encoded data removed]"
          },
          "metadata": {
            "needs_background": "light"
          }
        }
      ]
    },
    {
      "cell_type": "code",
      "source": [
        "dia = [pd.to_datetime(x).year + pd.to_datetime(x).month/12 +pd.to_datetime(x).day/30 for x in train.loc[train['passholder_type']=='Flex Pass'].start_time]\n",
        "n, bins, patches = plt.hist(x=dia , bins='auto', color='#0504aa',\n",
        "                            alpha=0.7, rwidth=0.85)\n",
        "plt.grid(axis='y', alpha=0.75)\n",
        "plt.xlabel('Fecha')\n",
        "plt.ylabel('Frecuencia absoluta')\n",
        "plt.title('Frecuencia de uso por Fecha | Flex Pass')\n",
        "maxfreq = n.max()"
      ],
      "metadata": {
        "colab": {
          "base_uri": "https://localhost:8080/",
          "height": 295
        },
        "id": "3x5ffvWUa1jM",
        "outputId": "79046945-1943-4c40-b0f2-8145446e7127"
      },
      "execution_count": 63,
      "outputs": [
        {
          "output_type": "display_data",
          "data": {
            "text/plain": [
              "<Figure size 432x288 with 1 Axes>"
            ],
            "image/png": "[encoded data removed]"
          },
          "metadata": {
            "needs_background": "light"
          }
        }
      ]
    },
    {
      "cell_type": "code",
      "source": [
        "dia = \n",
        "n, bins, patches = plt.hist(x=dia , bins='auto', color='#0504aa',\n",
        "                            alpha=0.7, rwidth=0.85)\n",
        "plt.grid(axis='y', alpha=0.75)\n",
        "plt.xlabel('Fecha')\n",
        "plt.ylabel('Frecuencia absoluta')\n",
        "plt.title('Frecuencia de uso por Fecha | Testing')\n",
        "maxfreq = n.max()"
      ],
      "metadata": {
        "colab": {
          "base_uri": "https://localhost:8080/",
          "height": 295
        },
        "id": "ddUtnyN7a9HP",
        "outputId": "6d0d033c-d036-482b-d75b-776307cd3f36"
      },
      "execution_count": 64,
      "outputs": [
        {
          "output_type": "display_data",
          "data": {
            "text/plain": [
              "<Figure size 432x288 with 1 Axes>"
            ],
            "image/png": "[encoded data removed]"
          },
          "metadata": {
            "needs_background": "light"
          }
        }
      ]
    },
    {
      "cell_type": "markdown",
      "source": [
        "### **2. Modelo analítico**\n",
        "\n",
        "Se desea saber si es posible inferir el tipo de pase tomando en\n",
        "cuenta las demás variables de viaje.\n",
        "\n",
        "- Construya un modelo analítico que incluya los puntos indispensables a considerar para un modelo (feature engineering, diseño de train-test split, cross-validation, métricas de desempeño, entre otros).\n",
        "\n",
        "- Interprete el resultado en contexto del problema y determine qué variables impactan en la predicción.\n",
        "\n",
        "- Tomando en cuenta los exploratorios y el modelo analítico, ¿cree que es un buen modelo? ¿Qué variables adicionales añadiría para mejorar el modelo?"
      ],
      "metadata": {
        "id": "MjbAXZzWUrZt"
      }
    },
    {
      "cell_type": "code",
      "source": [
        "from random import sample\n",
        "import matplotlib.pyplot as plt\n",
        "import seaborn as sns\n",
        "from sklearn import metrics"
      ],
      "metadata": {
        "id": "ForIGEJlbIq-"
      },
      "execution_count": 65,
      "outputs": []
    },
    {
      "cell_type": "markdown",
      "source": [
        "Construyendo los datos de entrenamiento y prueba."
      ],
      "metadata": {
        "id": "7L2Cd5tanF17"
      }
    },
    {
      "cell_type": "code",
      "source": [
        "train.shape"
      ],
      "metadata": {
        "colab": {
          "base_uri": "https://localhost:8080/",
          "height": 0
        },
        "id": "ZNw9DYvxi0h_",
        "outputId": "09f27996-326a-45e1-ce6d-564f163b7269"
      },
      "execution_count": 75,
      "outputs": [
        {
          "output_type": "execute_result",
          "data": {
            "text/plain": [
              "(700000, 14)"
            ]
          },
          "metadata": {},
          "execution_count": 75
        }
      ]
    },
    {
      "cell_type": "code",
      "source": [
        "np.random.seed(1)\n",
        "muestra = sample(range(0,700000), 500000)"
      ],
      "metadata": {
        "id": "RVEXficNe7GH"
      },
      "execution_count": 99,
      "outputs": []
    },
    {
      "cell_type": "code",
      "source": [
        "XTrain = train.iloc[muestra]\n",
        "XTest = train[~train.index.isin(muestra)]"
      ],
      "metadata": {
        "id": "LKOBieVei9F_"
      },
      "execution_count": 100,
      "outputs": []
    },
    {
      "cell_type": "code",
      "source": [
        "Walkup = [int(x) for x in (train['passholder_type'] == 'Walk-up')]\n",
        "Monthly = [int(x) for x in (train['passholder_type'] == 'Monthly Pass')]\n",
        "OneDay = [int(x) for x in (train['passholder_type'] == 'One Day Pass')]\n",
        "Annual = [int(x) for x in (train['passholder_type'] == 'Annual Pass')]\n",
        "Flex = [int(x) for x in (train['passholder_type'] == 'Flex Pass')]"
      ],
      "metadata": {
        "id": "6Dlij1NqhCI5"
      },
      "execution_count": 101,
      "outputs": []
    },
    {
      "cell_type": "code",
      "source": [
        "d = {'Walkup':Walkup, 'Monthly': Monthly, 'OneDay':OneDay, 'Annual':Annual, 'Flex':Flex}"
      ],
      "metadata": {
        "id": "gwe8v4c-lZr4"
      },
      "execution_count": 102,
      "outputs": []
    },
    {
      "cell_type": "code",
      "source": [
        "Y = pd.concat([pd.Series(v, name = k) for k, v in d.items()], axis = 1)\n",
        "\n",
        "YTrain = Y.iloc[muestra]\n",
        "YTest = Y[~train.index.isin(muestra)]"
      ],
      "metadata": {
        "id": "NR2UKtdsmBrL"
      },
      "execution_count": 103,
      "outputs": []
    },
    {
      "cell_type": "code",
      "source": [
        "from keras.utils import np_utils"
      ],
      "metadata": {
        "id": "76htfkcvnOER"
      },
      "execution_count": 104,
      "outputs": []
    },
    {
      "cell_type": "code",
      "source": [
        "numclases = 5"
      ],
      "metadata": {
        "id": "Byb8_E1KnUGo"
      },
      "execution_count": 96,
      "outputs": []
    },
    {
      "cell_type": "code",
      "source": [
        "YTrain = np_utils.to_categorical(YTrain, numclases)\n",
        "YTest = np_utils.to_categorical(YTest, numclases)"
      ],
      "metadata": {
        "id": "5lEONrfgnWkr"
      },
      "execution_count": 98,
      "outputs": []
    },
    {
      "cell_type": "markdown",
      "source": [
        "### **3. Evaluación del modelo**\n",
        "\n",
        "Se desea saber si es posible inferir el tipo de pase tomando en\n",
        "cuenta las demás variables de viaje.\n",
        "\n",
        "- Construya un modelo analítico que incluya los puntos indispensables a considerar para un modelo (feature engineering, diseño de train-test split, cross-validation, métricas de desempeño, entre otros).\n",
        "\n",
        "- Interprete el resultado en contexto del problema y determine qué variables impactan en la predicción.\n",
        "\n",
        "- Tomando en cuenta los exploratorios y el modelo analítico, ¿cree que es un buen modelo? ¿Qué variables adicionales añadiría para mejorar el modelo?"
      ],
      "metadata": {
        "id": "yIkDdtX4VoC7"
      }
    },
    {
      "cell_type": "code",
      "source": [],
      "metadata": {
        "id": "g5ZM1SXsbMfP"
      },
      "execution_count": null,
      "outputs": []
    },
    {
      "cell_type": "markdown",
      "source": [
        "### **4. Diagrama del Flujo**\n",
        "\n",
        "Por último, se desea poner en producción el modelo. Agregue un diagrama del flujo completo incluyendo la puesta en producción. Si tiene experiencia con servicios de\n",
        "nube puede incluirlo."
      ],
      "metadata": {
        "id": "F70orry5WztQ"
      }
    }
  ]
}